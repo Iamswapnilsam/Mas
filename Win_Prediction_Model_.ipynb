{
  "cells": [
    {
      "cell_type": "markdown",
      "metadata": {
        "id": "PFi-V1LHyBnv"
      },
      "source": [
        "## Imports & Load dataset:"
      ]
    },
    {
      "cell_type": "code",
      "execution_count": 50,
      "metadata": {
        "id": "tPFBKXfMyBny"
      },
      "outputs": [],
      "source": [
        "import pandas as pd\n",
        "import numpy as np\n",
        "import matplotlib.pyplot as plt\n",
        "\n",
        "import warnings\n",
        "warnings.filterwarnings('ignore')\n",
        "\n",
        "#to display all rows columns\n",
        "pd.set_option('display.max_rows', None)\n",
        "pd.set_option('display.max_columns', None)\n",
        "pd.set_option('display.expand_frame_repr', False)\n",
        "pd.set_option('max_colwidth', 0)"
      ]
    },
    {
      "cell_type": "code",
      "execution_count": 51,
      "metadata": {
        "id": "lmm4PTF7yBnz"
      },
      "outputs": [],
      "source": [
        "ipl_df = pd.read_csv('/content/IPL_ball_by_ball_updated.csv')"
      ]
    },
    {
      "cell_type": "code",
      "execution_count": 52,
      "metadata": {
        "colab": {
          "base_uri": "https://localhost:8080/",
          "height": 399
        },
        "id": "Xx0r8_3eyBn0",
        "outputId": "dd38e213-842f-4f77-ebca-a9328b89f6ba"
      },
      "outputs": [
        {
          "output_type": "execute_result",
          "data": {
            "text/plain": [
              "   match_id  season  start_date                  venue  innings  ball                 batting_team           bowling_team     striker non_striker      bowler  runs_off_bat  extras  wides  noballs  byes  legbyes  penalty wicket_type player_dismissed  other_wicket_type  other_player_dismissed\n",
              "0  335982    2008    2008-04-18  M Chinnaswamy Stadium  2        6.8   Royal Challengers Bangalore  Kolkata Knight Riders  MV Boucher  CL White    AB Agarkar  4             0      NaN    NaN      NaN   NaN      NaN       NaN         NaN             NaN                NaN                    \n",
              "1  335982    2008    2008-04-18  M Chinnaswamy Stadium  2        2.7   Royal Challengers Bangalore  Kolkata Knight Riders  W Jaffer    JH Kallis   AB Dinda    1             0      NaN    NaN      NaN   NaN      NaN       NaN         NaN             NaN                NaN                    \n",
              "2  335982    2008    2008-04-18  M Chinnaswamy Stadium  2        3.1   Royal Challengers Bangalore  Kolkata Knight Riders  W Jaffer    JH Kallis   I Sharma    2             0      NaN    NaN      NaN   NaN      NaN       NaN         NaN             NaN                NaN                    \n",
              "3  335982    2008    2008-04-18  M Chinnaswamy Stadium  2        3.2   Royal Challengers Bangalore  Kolkata Knight Riders  W Jaffer    JH Kallis   I Sharma    1             0      NaN    NaN      NaN   NaN      NaN       NaN         NaN             NaN                NaN                    \n",
              "4  335982    2008    2008-04-18  M Chinnaswamy Stadium  2        3.3   Royal Challengers Bangalore  Kolkata Knight Riders  JH Kallis   W Jaffer    I Sharma    0             0      NaN    NaN      NaN   NaN      NaN       NaN         NaN             NaN                NaN                    "
            ],
            "text/html": [
              "\n",
              "  <div id=\"df-764819f4-b176-42a2-b8e7-1aa2e43715b3\" class=\"colab-df-container\">\n",
              "    <div>\n",
              "<style scoped>\n",
              "    .dataframe tbody tr th:only-of-type {\n",
              "        vertical-align: middle;\n",
              "    }\n",
              "\n",
              "    .dataframe tbody tr th {\n",
              "        vertical-align: top;\n",
              "    }\n",
              "\n",
              "    .dataframe thead th {\n",
              "        text-align: right;\n",
              "    }\n",
              "</style>\n",
              "<table border=\"1\" class=\"dataframe\">\n",
              "  <thead>\n",
              "    <tr style=\"text-align: right;\">\n",
              "      <th></th>\n",
              "      <th>match_id</th>\n",
              "      <th>season</th>\n",
              "      <th>start_date</th>\n",
              "      <th>venue</th>\n",
              "      <th>innings</th>\n",
              "      <th>ball</th>\n",
              "      <th>batting_team</th>\n",
              "      <th>bowling_team</th>\n",
              "      <th>striker</th>\n",
              "      <th>non_striker</th>\n",
              "      <th>bowler</th>\n",
              "      <th>runs_off_bat</th>\n",
              "      <th>extras</th>\n",
              "      <th>wides</th>\n",
              "      <th>noballs</th>\n",
              "      <th>byes</th>\n",
              "      <th>legbyes</th>\n",
              "      <th>penalty</th>\n",
              "      <th>wicket_type</th>\n",
              "      <th>player_dismissed</th>\n",
              "      <th>other_wicket_type</th>\n",
              "      <th>other_player_dismissed</th>\n",
              "    </tr>\n",
              "  </thead>\n",
              "  <tbody>\n",
              "    <tr>\n",
              "      <th>0</th>\n",
              "      <td>335982</td>\n",
              "      <td>2008</td>\n",
              "      <td>2008-04-18</td>\n",
              "      <td>M Chinnaswamy Stadium</td>\n",
              "      <td>2</td>\n",
              "      <td>6.8</td>\n",
              "      <td>Royal Challengers Bangalore</td>\n",
              "      <td>Kolkata Knight Riders</td>\n",
              "      <td>MV Boucher</td>\n",
              "      <td>CL White</td>\n",
              "      <td>AB Agarkar</td>\n",
              "      <td>4</td>\n",
              "      <td>0</td>\n",
              "      <td>NaN</td>\n",
              "      <td>NaN</td>\n",
              "      <td>NaN</td>\n",
              "      <td>NaN</td>\n",
              "      <td>NaN</td>\n",
              "      <td>NaN</td>\n",
              "      <td>NaN</td>\n",
              "      <td>NaN</td>\n",
              "      <td>NaN</td>\n",
              "    </tr>\n",
              "    <tr>\n",
              "      <th>1</th>\n",
              "      <td>335982</td>\n",
              "      <td>2008</td>\n",
              "      <td>2008-04-18</td>\n",
              "      <td>M Chinnaswamy Stadium</td>\n",
              "      <td>2</td>\n",
              "      <td>2.7</td>\n",
              "      <td>Royal Challengers Bangalore</td>\n",
              "      <td>Kolkata Knight Riders</td>\n",
              "      <td>W Jaffer</td>\n",
              "      <td>JH Kallis</td>\n",
              "      <td>AB Dinda</td>\n",
              "      <td>1</td>\n",
              "      <td>0</td>\n",
              "      <td>NaN</td>\n",
              "      <td>NaN</td>\n",
              "      <td>NaN</td>\n",
              "      <td>NaN</td>\n",
              "      <td>NaN</td>\n",
              "      <td>NaN</td>\n",
              "      <td>NaN</td>\n",
              "      <td>NaN</td>\n",
              "      <td>NaN</td>\n",
              "    </tr>\n",
              "    <tr>\n",
              "      <th>2</th>\n",
              "      <td>335982</td>\n",
              "      <td>2008</td>\n",
              "      <td>2008-04-18</td>\n",
              "      <td>M Chinnaswamy Stadium</td>\n",
              "      <td>2</td>\n",
              "      <td>3.1</td>\n",
              "      <td>Royal Challengers Bangalore</td>\n",
              "      <td>Kolkata Knight Riders</td>\n",
              "      <td>W Jaffer</td>\n",
              "      <td>JH Kallis</td>\n",
              "      <td>I Sharma</td>\n",
              "      <td>2</td>\n",
              "      <td>0</td>\n",
              "      <td>NaN</td>\n",
              "      <td>NaN</td>\n",
              "      <td>NaN</td>\n",
              "      <td>NaN</td>\n",
              "      <td>NaN</td>\n",
              "      <td>NaN</td>\n",
              "      <td>NaN</td>\n",
              "      <td>NaN</td>\n",
              "      <td>NaN</td>\n",
              "    </tr>\n",
              "    <tr>\n",
              "      <th>3</th>\n",
              "      <td>335982</td>\n",
              "      <td>2008</td>\n",
              "      <td>2008-04-18</td>\n",
              "      <td>M Chinnaswamy Stadium</td>\n",
              "      <td>2</td>\n",
              "      <td>3.2</td>\n",
              "      <td>Royal Challengers Bangalore</td>\n",
              "      <td>Kolkata Knight Riders</td>\n",
              "      <td>W Jaffer</td>\n",
              "      <td>JH Kallis</td>\n",
              "      <td>I Sharma</td>\n",
              "      <td>1</td>\n",
              "      <td>0</td>\n",
              "      <td>NaN</td>\n",
              "      <td>NaN</td>\n",
              "      <td>NaN</td>\n",
              "      <td>NaN</td>\n",
              "      <td>NaN</td>\n",
              "      <td>NaN</td>\n",
              "      <td>NaN</td>\n",
              "      <td>NaN</td>\n",
              "      <td>NaN</td>\n",
              "    </tr>\n",
              "    <tr>\n",
              "      <th>4</th>\n",
              "      <td>335982</td>\n",
              "      <td>2008</td>\n",
              "      <td>2008-04-18</td>\n",
              "      <td>M Chinnaswamy Stadium</td>\n",
              "      <td>2</td>\n",
              "      <td>3.3</td>\n",
              "      <td>Royal Challengers Bangalore</td>\n",
              "      <td>Kolkata Knight Riders</td>\n",
              "      <td>JH Kallis</td>\n",
              "      <td>W Jaffer</td>\n",
              "      <td>I Sharma</td>\n",
              "      <td>0</td>\n",
              "      <td>0</td>\n",
              "      <td>NaN</td>\n",
              "      <td>NaN</td>\n",
              "      <td>NaN</td>\n",
              "      <td>NaN</td>\n",
              "      <td>NaN</td>\n",
              "      <td>NaN</td>\n",
              "      <td>NaN</td>\n",
              "      <td>NaN</td>\n",
              "      <td>NaN</td>\n",
              "    </tr>\n",
              "  </tbody>\n",
              "</table>\n",
              "</div>\n",
              "    <div class=\"colab-df-buttons\">\n",
              "\n",
              "  <div class=\"colab-df-container\">\n",
              "    <button class=\"colab-df-convert\" onclick=\"convertToInteractive('df-764819f4-b176-42a2-b8e7-1aa2e43715b3')\"\n",
              "            title=\"Convert this dataframe to an interactive table.\"\n",
              "            style=\"display:none;\">\n",
              "\n",
              "  <svg xmlns=\"http://www.w3.org/2000/svg\" height=\"24px\" viewBox=\"0 -960 960 960\">\n",
              "    <path d=\"M120-120v-720h720v720H120Zm60-500h600v-160H180v160Zm220 220h160v-160H400v160Zm0 220h160v-160H400v160ZM180-400h160v-160H180v160Zm440 0h160v-160H620v160ZM180-180h160v-160H180v160Zm440 0h160v-160H620v160Z\"/>\n",
              "  </svg>\n",
              "    </button>\n",
              "\n",
              "  <style>\n",
              "    .colab-df-container {\n",
              "      display:flex;\n",
              "      gap: 12px;\n",
              "    }\n",
              "\n",
              "    .colab-df-convert {\n",
              "      background-color: #E8F0FE;\n",
              "      border: none;\n",
              "      border-radius: 50%;\n",
              "      cursor: pointer;\n",
              "      display: none;\n",
              "      fill: #1967D2;\n",
              "      height: 32px;\n",
              "      padding: 0 0 0 0;\n",
              "      width: 32px;\n",
              "    }\n",
              "\n",
              "    .colab-df-convert:hover {\n",
              "      background-color: #E2EBFA;\n",
              "      box-shadow: 0px 1px 2px rgba(60, 64, 67, 0.3), 0px 1px 3px 1px rgba(60, 64, 67, 0.15);\n",
              "      fill: #174EA6;\n",
              "    }\n",
              "\n",
              "    .colab-df-buttons div {\n",
              "      margin-bottom: 4px;\n",
              "    }\n",
              "\n",
              "    [theme=dark] .colab-df-convert {\n",
              "      background-color: #3B4455;\n",
              "      fill: #D2E3FC;\n",
              "    }\n",
              "\n",
              "    [theme=dark] .colab-df-convert:hover {\n",
              "      background-color: #434B5C;\n",
              "      box-shadow: 0px 1px 3px 1px rgba(0, 0, 0, 0.15);\n",
              "      filter: drop-shadow(0px 1px 2px rgba(0, 0, 0, 0.3));\n",
              "      fill: #FFFFFF;\n",
              "    }\n",
              "  </style>\n",
              "\n",
              "    <script>\n",
              "      const buttonEl =\n",
              "        document.querySelector('#df-764819f4-b176-42a2-b8e7-1aa2e43715b3 button.colab-df-convert');\n",
              "      buttonEl.style.display =\n",
              "        google.colab.kernel.accessAllowed ? 'block' : 'none';\n",
              "\n",
              "      async function convertToInteractive(key) {\n",
              "        const element = document.querySelector('#df-764819f4-b176-42a2-b8e7-1aa2e43715b3');\n",
              "        const dataTable =\n",
              "          await google.colab.kernel.invokeFunction('convertToInteractive',\n",
              "                                                    [key], {});\n",
              "        if (!dataTable) return;\n",
              "\n",
              "        const docLinkHtml = 'Like what you see? Visit the ' +\n",
              "          '<a target=\"_blank\" href=https://colab.research.google.com/notebooks/data_table.ipynb>data table notebook</a>'\n",
              "          + ' to learn more about interactive tables.';\n",
              "        element.innerHTML = '';\n",
              "        dataTable['output_type'] = 'display_data';\n",
              "        await google.colab.output.renderOutput(dataTable, element);\n",
              "        const docLink = document.createElement('div');\n",
              "        docLink.innerHTML = docLinkHtml;\n",
              "        element.appendChild(docLink);\n",
              "      }\n",
              "    </script>\n",
              "  </div>\n",
              "\n",
              "\n",
              "<div id=\"df-1f03cb14-610a-475d-bfef-c5a70b003c0d\">\n",
              "  <button class=\"colab-df-quickchart\" onclick=\"quickchart('df-1f03cb14-610a-475d-bfef-c5a70b003c0d')\"\n",
              "            title=\"Suggest charts\"\n",
              "            style=\"display:none;\">\n",
              "\n",
              "<svg xmlns=\"http://www.w3.org/2000/svg\" height=\"24px\"viewBox=\"0 0 24 24\"\n",
              "     width=\"24px\">\n",
              "    <g>\n",
              "        <path d=\"M19 3H5c-1.1 0-2 .9-2 2v14c0 1.1.9 2 2 2h14c1.1 0 2-.9 2-2V5c0-1.1-.9-2-2-2zM9 17H7v-7h2v7zm4 0h-2V7h2v10zm4 0h-2v-4h2v4z\"/>\n",
              "    </g>\n",
              "</svg>\n",
              "  </button>\n",
              "\n",
              "<style>\n",
              "  .colab-df-quickchart {\n",
              "      --bg-color: #E8F0FE;\n",
              "      --fill-color: #1967D2;\n",
              "      --hover-bg-color: #E2EBFA;\n",
              "      --hover-fill-color: #174EA6;\n",
              "      --disabled-fill-color: #AAA;\n",
              "      --disabled-bg-color: #DDD;\n",
              "  }\n",
              "\n",
              "  [theme=dark] .colab-df-quickchart {\n",
              "      --bg-color: #3B4455;\n",
              "      --fill-color: #D2E3FC;\n",
              "      --hover-bg-color: #434B5C;\n",
              "      --hover-fill-color: #FFFFFF;\n",
              "      --disabled-bg-color: #3B4455;\n",
              "      --disabled-fill-color: #666;\n",
              "  }\n",
              "\n",
              "  .colab-df-quickchart {\n",
              "    background-color: var(--bg-color);\n",
              "    border: none;\n",
              "    border-radius: 50%;\n",
              "    cursor: pointer;\n",
              "    display: none;\n",
              "    fill: var(--fill-color);\n",
              "    height: 32px;\n",
              "    padding: 0;\n",
              "    width: 32px;\n",
              "  }\n",
              "\n",
              "  .colab-df-quickchart:hover {\n",
              "    background-color: var(--hover-bg-color);\n",
              "    box-shadow: 0 1px 2px rgba(60, 64, 67, 0.3), 0 1px 3px 1px rgba(60, 64, 67, 0.15);\n",
              "    fill: var(--button-hover-fill-color);\n",
              "  }\n",
              "\n",
              "  .colab-df-quickchart-complete:disabled,\n",
              "  .colab-df-quickchart-complete:disabled:hover {\n",
              "    background-color: var(--disabled-bg-color);\n",
              "    fill: var(--disabled-fill-color);\n",
              "    box-shadow: none;\n",
              "  }\n",
              "\n",
              "  .colab-df-spinner {\n",
              "    border: 2px solid var(--fill-color);\n",
              "    border-color: transparent;\n",
              "    border-bottom-color: var(--fill-color);\n",
              "    animation:\n",
              "      spin 1s steps(1) infinite;\n",
              "  }\n",
              "\n",
              "  @keyframes spin {\n",
              "    0% {\n",
              "      border-color: transparent;\n",
              "      border-bottom-color: var(--fill-color);\n",
              "      border-left-color: var(--fill-color);\n",
              "    }\n",
              "    20% {\n",
              "      border-color: transparent;\n",
              "      border-left-color: var(--fill-color);\n",
              "      border-top-color: var(--fill-color);\n",
              "    }\n",
              "    30% {\n",
              "      border-color: transparent;\n",
              "      border-left-color: var(--fill-color);\n",
              "      border-top-color: var(--fill-color);\n",
              "      border-right-color: var(--fill-color);\n",
              "    }\n",
              "    40% {\n",
              "      border-color: transparent;\n",
              "      border-right-color: var(--fill-color);\n",
              "      border-top-color: var(--fill-color);\n",
              "    }\n",
              "    60% {\n",
              "      border-color: transparent;\n",
              "      border-right-color: var(--fill-color);\n",
              "    }\n",
              "    80% {\n",
              "      border-color: transparent;\n",
              "      border-right-color: var(--fill-color);\n",
              "      border-bottom-color: var(--fill-color);\n",
              "    }\n",
              "    90% {\n",
              "      border-color: transparent;\n",
              "      border-bottom-color: var(--fill-color);\n",
              "    }\n",
              "  }\n",
              "</style>\n",
              "\n",
              "  <script>\n",
              "    async function quickchart(key) {\n",
              "      const quickchartButtonEl =\n",
              "        document.querySelector('#' + key + ' button');\n",
              "      quickchartButtonEl.disabled = true;  // To prevent multiple clicks.\n",
              "      quickchartButtonEl.classList.add('colab-df-spinner');\n",
              "      try {\n",
              "        const charts = await google.colab.kernel.invokeFunction(\n",
              "            'suggestCharts', [key], {});\n",
              "      } catch (error) {\n",
              "        console.error('Error during call to suggestCharts:', error);\n",
              "      }\n",
              "      quickchartButtonEl.classList.remove('colab-df-spinner');\n",
              "      quickchartButtonEl.classList.add('colab-df-quickchart-complete');\n",
              "    }\n",
              "    (() => {\n",
              "      let quickchartButtonEl =\n",
              "        document.querySelector('#df-1f03cb14-610a-475d-bfef-c5a70b003c0d button');\n",
              "      quickchartButtonEl.style.display =\n",
              "        google.colab.kernel.accessAllowed ? 'block' : 'none';\n",
              "    })();\n",
              "  </script>\n",
              "</div>\n",
              "\n",
              "    </div>\n",
              "  </div>\n"
            ],
            "application/vnd.google.colaboratory.intrinsic+json": {
              "type": "dataframe",
              "variable_name": "ipl_df"
            }
          },
          "metadata": {},
          "execution_count": 52
        }
      ],
      "source": [
        "ipl_df.head(5)"
      ]
    },
    {
      "cell_type": "code",
      "execution_count": 53,
      "metadata": {
        "colab": {
          "base_uri": "https://localhost:8080/"
        },
        "id": "-Fx5I372yBn1",
        "outputId": "512007bd-c1a5-410a-ca9d-13942df9d20e"
      },
      "outputs": [
        {
          "output_type": "execute_result",
          "data": {
            "text/plain": [
              "Index(['match_id', 'season', 'start_date', 'venue', 'innings', 'ball',\n",
              "       'batting_team', 'bowling_team', 'striker', 'non_striker', 'bowler',\n",
              "       'runs_off_bat', 'extras', 'wides', 'noballs', 'byes', 'legbyes',\n",
              "       'penalty', 'wicket_type', 'player_dismissed', 'other_wicket_type',\n",
              "       'other_player_dismissed'],\n",
              "      dtype='object')"
            ]
          },
          "metadata": {},
          "execution_count": 53
        }
      ],
      "source": [
        "ipl_df.columns"
      ]
    },
    {
      "cell_type": "code",
      "execution_count": 54,
      "metadata": {
        "id": "MtG7A1z1yBn1"
      },
      "outputs": [],
      "source": [
        "ipl_df = ipl_df[(ipl_df.innings == 1) | (ipl_df.innings == 2)]"
      ]
    },
    {
      "cell_type": "markdown",
      "metadata": {
        "id": "ldk_6ijdyBn1"
      },
      "source": [
        "## Additional Colums:"
      ]
    },
    {
      "cell_type": "code",
      "execution_count": 55,
      "metadata": {
        "id": "ThWMFJgPyBn2"
      },
      "outputs": [],
      "source": [
        "ipl_df['total_runs'] = ipl_df.apply(lambda x: x['runs_off_bat'] + x['extras'], axis = 1)"
      ]
    },
    {
      "cell_type": "code",
      "execution_count": 56,
      "metadata": {
        "id": "vbRV3nRlyBn2"
      },
      "outputs": [],
      "source": [
        "ipl_df['isOut'] = ipl_df['player_dismissed'].apply(lambda x: 1 if type(x) == type('str') else 0)"
      ]
    },
    {
      "cell_type": "code",
      "execution_count": 57,
      "metadata": {
        "colab": {
          "base_uri": "https://localhost:8080/"
        },
        "id": "V-7rrEbhyBn2",
        "outputId": "3e567090-0039-4e6e-cbe8-c93cfade1955"
      },
      "outputs": [
        {
          "output_type": "execute_result",
          "data": {
            "text/plain": [
              "array(['Royal Challengers Bangalore', 'Kolkata Knight Riders',\n",
              "       'Rajasthan Royals', 'Delhi Daredevils', 'Kings XI Punjab',\n",
              "       'Chennai Super Kings', 'Deccan Chargers', 'Mumbai Indians',\n",
              "       'Kochi Tuskers Kerala', 'Pune Warriors', 'Sunrisers Hyderabad',\n",
              "       'Rising Pune Supergiants', 'Gujarat Lions',\n",
              "       'Rising Pune Supergiant', 'Delhi Capitals', 'Punjab Kings',\n",
              "       'Gujarat Titans', 'Lucknow Super Giants'], dtype=object)"
            ]
          },
          "metadata": {},
          "execution_count": 57
        }
      ],
      "source": [
        "ipl_df.batting_team.unique()"
      ]
    },
    {
      "cell_type": "code",
      "execution_count": 58,
      "metadata": {
        "scrolled": true,
        "colab": {
          "base_uri": "https://localhost:8080/",
          "height": 366
        },
        "id": "tgHbd6aEyBn3",
        "outputId": "92544cf3-4179-4804-960e-68ec39a880d2"
      },
      "outputs": [
        {
          "output_type": "execute_result",
          "data": {
            "text/plain": [
              "total_runs\n",
              "1    10515\n",
              "0    8661 \n",
              "4    2829 \n",
              "2    1706 \n",
              "6    1259 \n",
              "3    98   \n",
              "5    46   \n",
              "7    9    \n",
              "Name: count, dtype: int64"
            ],
            "text/html": [
              "<div>\n",
              "<style scoped>\n",
              "    .dataframe tbody tr th:only-of-type {\n",
              "        vertical-align: middle;\n",
              "    }\n",
              "\n",
              "    .dataframe tbody tr th {\n",
              "        vertical-align: top;\n",
              "    }\n",
              "\n",
              "    .dataframe thead th {\n",
              "        text-align: right;\n",
              "    }\n",
              "</style>\n",
              "<table border=\"1\" class=\"dataframe\">\n",
              "  <thead>\n",
              "    <tr style=\"text-align: right;\">\n",
              "      <th></th>\n",
              "      <th>count</th>\n",
              "    </tr>\n",
              "    <tr>\n",
              "      <th>total_runs</th>\n",
              "      <th></th>\n",
              "    </tr>\n",
              "  </thead>\n",
              "  <tbody>\n",
              "    <tr>\n",
              "      <th>1</th>\n",
              "      <td>10515</td>\n",
              "    </tr>\n",
              "    <tr>\n",
              "      <th>0</th>\n",
              "      <td>8661</td>\n",
              "    </tr>\n",
              "    <tr>\n",
              "      <th>4</th>\n",
              "      <td>2829</td>\n",
              "    </tr>\n",
              "    <tr>\n",
              "      <th>2</th>\n",
              "      <td>1706</td>\n",
              "    </tr>\n",
              "    <tr>\n",
              "      <th>6</th>\n",
              "      <td>1259</td>\n",
              "    </tr>\n",
              "    <tr>\n",
              "      <th>3</th>\n",
              "      <td>98</td>\n",
              "    </tr>\n",
              "    <tr>\n",
              "      <th>5</th>\n",
              "      <td>46</td>\n",
              "    </tr>\n",
              "    <tr>\n",
              "      <th>7</th>\n",
              "      <td>9</td>\n",
              "    </tr>\n",
              "  </tbody>\n",
              "</table>\n",
              "</div><br><label><b>dtype:</b> int64</label>"
            ]
          },
          "metadata": {},
          "execution_count": 58
        }
      ],
      "source": [
        "ipl_df[ipl_df.batting_team == 'Chennai Super Kings'].total_runs.value_counts()"
      ]
    },
    {
      "cell_type": "code",
      "execution_count": 59,
      "metadata": {
        "colab": {
          "base_uri": "https://localhost:8080/",
          "height": 366
        },
        "id": "rjwtiVDByBn3",
        "outputId": "2bd99397-47d3-448c-b079-12a230662681"
      },
      "outputs": [
        {
          "output_type": "execute_result",
          "data": {
            "text/plain": [
              "total_runs\n",
              "1    11336\n",
              "0    9974 \n",
              "4    3198 \n",
              "2    1721 \n",
              "6    1403 \n",
              "3    104  \n",
              "5    54   \n",
              "7    7    \n",
              "Name: count, dtype: int64"
            ],
            "text/html": [
              "<div>\n",
              "<style scoped>\n",
              "    .dataframe tbody tr th:only-of-type {\n",
              "        vertical-align: middle;\n",
              "    }\n",
              "\n",
              "    .dataframe tbody tr th {\n",
              "        vertical-align: top;\n",
              "    }\n",
              "\n",
              "    .dataframe thead th {\n",
              "        text-align: right;\n",
              "    }\n",
              "</style>\n",
              "<table border=\"1\" class=\"dataframe\">\n",
              "  <thead>\n",
              "    <tr style=\"text-align: right;\">\n",
              "      <th></th>\n",
              "      <th>count</th>\n",
              "    </tr>\n",
              "    <tr>\n",
              "      <th>total_runs</th>\n",
              "      <th></th>\n",
              "    </tr>\n",
              "  </thead>\n",
              "  <tbody>\n",
              "    <tr>\n",
              "      <th>1</th>\n",
              "      <td>11336</td>\n",
              "    </tr>\n",
              "    <tr>\n",
              "      <th>0</th>\n",
              "      <td>9974</td>\n",
              "    </tr>\n",
              "    <tr>\n",
              "      <th>4</th>\n",
              "      <td>3198</td>\n",
              "    </tr>\n",
              "    <tr>\n",
              "      <th>2</th>\n",
              "      <td>1721</td>\n",
              "    </tr>\n",
              "    <tr>\n",
              "      <th>6</th>\n",
              "      <td>1403</td>\n",
              "    </tr>\n",
              "    <tr>\n",
              "      <th>3</th>\n",
              "      <td>104</td>\n",
              "    </tr>\n",
              "    <tr>\n",
              "      <th>5</th>\n",
              "      <td>54</td>\n",
              "    </tr>\n",
              "    <tr>\n",
              "      <th>7</th>\n",
              "      <td>7</td>\n",
              "    </tr>\n",
              "  </tbody>\n",
              "</table>\n",
              "</div><br><label><b>dtype:</b> int64</label>"
            ]
          },
          "metadata": {},
          "execution_count": 59
        }
      ],
      "source": [
        "ipl_df[ipl_df.batting_team == 'Mumbai Indians'].total_runs.value_counts()"
      ]
    },
    {
      "cell_type": "markdown",
      "metadata": {
        "id": "YayT8xTCyBn4"
      },
      "source": [
        "## Choose Teams:"
      ]
    },
    {
      "cell_type": "code",
      "execution_count": 60,
      "metadata": {
        "id": "owsqWS_DyBn4"
      },
      "outputs": [],
      "source": [
        "# t1 - bat first, t2 - bat second\n",
        "# Ex: MI vs RCB, (match_id: 1254058)\n",
        "\n",
        "t1 = 'Mumbai Indians'\n",
        "t2 = 'Chennai Super Kings'"
      ]
    },
    {
      "cell_type": "markdown",
      "metadata": {
        "id": "l6w2e0L5yBn4"
      },
      "source": [
        "## Choose a Match b/w these Teams:"
      ]
    },
    {
      "cell_type": "code",
      "execution_count": 61,
      "metadata": {
        "colab": {
          "base_uri": "https://localhost:8080/"
        },
        "id": "zlmLEzYQyBn4",
        "outputId": "64ce384e-9ca9-44f4-999f-17781e068138"
      },
      "outputs": [
        {
          "output_type": "execute_result",
          "data": {
            "text/plain": [
              "array([ 392181,  392227,  501221,  598002,  598046,  598073,  729303,\n",
              "        733995,  734045,  829729,  829817,  829823, 1136561, 1175370,\n",
              "       1178419, 1181768, 1216492, 1304079])"
            ]
          },
          "metadata": {},
          "execution_count": 61
        }
      ],
      "source": [
        "ipl_df[(ipl_df.batting_team == t1) & (ipl_df.bowling_team == t2) & (ipl_df.innings == 1)].match_id.unique()"
      ]
    },
    {
      "cell_type": "code",
      "execution_count": 62,
      "metadata": {
        "id": "U-22Koz5yBn5"
      },
      "outputs": [],
      "source": [
        "required_match_id = 729287"
      ]
    },
    {
      "cell_type": "code",
      "execution_count": 63,
      "metadata": {
        "colab": {
          "base_uri": "https://localhost:8080/",
          "height": 153
        },
        "id": "NJzr3q0ZyBn5",
        "outputId": "b487963d-7d1e-4760-db50-d039a257033d"
      },
      "outputs": [
        {
          "output_type": "execute_result",
          "data": {
            "text/plain": [
              "       match_id  season  start_date                                venue  innings  ball                 batting_team    bowling_team         striker non_striker   bowler  runs_off_bat  extras  wides  noballs  byes  legbyes  penalty wicket_type player_dismissed  other_wicket_type  other_player_dismissed  total_runs  isOut\n",
              "95752  729287    2014    2014-04-19  Dubai International Cricket Stadium  2        8.6   Royal Challengers Bangalore  Mumbai Indians  AB de Villiers  PA Patel    PP Ojha  1             0      NaN    NaN      NaN   NaN      NaN       NaN         NaN             NaN                NaN                      1           0    "
            ],
            "text/html": [
              "\n",
              "  <div id=\"df-ba1284dc-14e7-4fe4-8724-c722396c52cb\" class=\"colab-df-container\">\n",
              "    <div>\n",
              "<style scoped>\n",
              "    .dataframe tbody tr th:only-of-type {\n",
              "        vertical-align: middle;\n",
              "    }\n",
              "\n",
              "    .dataframe tbody tr th {\n",
              "        vertical-align: top;\n",
              "    }\n",
              "\n",
              "    .dataframe thead th {\n",
              "        text-align: right;\n",
              "    }\n",
              "</style>\n",
              "<table border=\"1\" class=\"dataframe\">\n",
              "  <thead>\n",
              "    <tr style=\"text-align: right;\">\n",
              "      <th></th>\n",
              "      <th>match_id</th>\n",
              "      <th>season</th>\n",
              "      <th>start_date</th>\n",
              "      <th>venue</th>\n",
              "      <th>innings</th>\n",
              "      <th>ball</th>\n",
              "      <th>batting_team</th>\n",
              "      <th>bowling_team</th>\n",
              "      <th>striker</th>\n",
              "      <th>non_striker</th>\n",
              "      <th>bowler</th>\n",
              "      <th>runs_off_bat</th>\n",
              "      <th>extras</th>\n",
              "      <th>wides</th>\n",
              "      <th>noballs</th>\n",
              "      <th>byes</th>\n",
              "      <th>legbyes</th>\n",
              "      <th>penalty</th>\n",
              "      <th>wicket_type</th>\n",
              "      <th>player_dismissed</th>\n",
              "      <th>other_wicket_type</th>\n",
              "      <th>other_player_dismissed</th>\n",
              "      <th>total_runs</th>\n",
              "      <th>isOut</th>\n",
              "    </tr>\n",
              "  </thead>\n",
              "  <tbody>\n",
              "    <tr>\n",
              "      <th>95752</th>\n",
              "      <td>729287</td>\n",
              "      <td>2014</td>\n",
              "      <td>2014-04-19</td>\n",
              "      <td>Dubai International Cricket Stadium</td>\n",
              "      <td>2</td>\n",
              "      <td>8.6</td>\n",
              "      <td>Royal Challengers Bangalore</td>\n",
              "      <td>Mumbai Indians</td>\n",
              "      <td>AB de Villiers</td>\n",
              "      <td>PA Patel</td>\n",
              "      <td>PP Ojha</td>\n",
              "      <td>1</td>\n",
              "      <td>0</td>\n",
              "      <td>NaN</td>\n",
              "      <td>NaN</td>\n",
              "      <td>NaN</td>\n",
              "      <td>NaN</td>\n",
              "      <td>NaN</td>\n",
              "      <td>NaN</td>\n",
              "      <td>NaN</td>\n",
              "      <td>NaN</td>\n",
              "      <td>NaN</td>\n",
              "      <td>1</td>\n",
              "      <td>0</td>\n",
              "    </tr>\n",
              "  </tbody>\n",
              "</table>\n",
              "</div>\n",
              "    <div class=\"colab-df-buttons\">\n",
              "\n",
              "  <div class=\"colab-df-container\">\n",
              "    <button class=\"colab-df-convert\" onclick=\"convertToInteractive('df-ba1284dc-14e7-4fe4-8724-c722396c52cb')\"\n",
              "            title=\"Convert this dataframe to an interactive table.\"\n",
              "            style=\"display:none;\">\n",
              "\n",
              "  <svg xmlns=\"http://www.w3.org/2000/svg\" height=\"24px\" viewBox=\"0 -960 960 960\">\n",
              "    <path d=\"M120-120v-720h720v720H120Zm60-500h600v-160H180v160Zm220 220h160v-160H400v160Zm0 220h160v-160H400v160ZM180-400h160v-160H180v160Zm440 0h160v-160H620v160ZM180-180h160v-160H180v160Zm440 0h160v-160H620v160Z\"/>\n",
              "  </svg>\n",
              "    </button>\n",
              "\n",
              "  <style>\n",
              "    .colab-df-container {\n",
              "      display:flex;\n",
              "      gap: 12px;\n",
              "    }\n",
              "\n",
              "    .colab-df-convert {\n",
              "      background-color: #E8F0FE;\n",
              "      border: none;\n",
              "      border-radius: 50%;\n",
              "      cursor: pointer;\n",
              "      display: none;\n",
              "      fill: #1967D2;\n",
              "      height: 32px;\n",
              "      padding: 0 0 0 0;\n",
              "      width: 32px;\n",
              "    }\n",
              "\n",
              "    .colab-df-convert:hover {\n",
              "      background-color: #E2EBFA;\n",
              "      box-shadow: 0px 1px 2px rgba(60, 64, 67, 0.3), 0px 1px 3px 1px rgba(60, 64, 67, 0.15);\n",
              "      fill: #174EA6;\n",
              "    }\n",
              "\n",
              "    .colab-df-buttons div {\n",
              "      margin-bottom: 4px;\n",
              "    }\n",
              "\n",
              "    [theme=dark] .colab-df-convert {\n",
              "      background-color: #3B4455;\n",
              "      fill: #D2E3FC;\n",
              "    }\n",
              "\n",
              "    [theme=dark] .colab-df-convert:hover {\n",
              "      background-color: #434B5C;\n",
              "      box-shadow: 0px 1px 3px 1px rgba(0, 0, 0, 0.15);\n",
              "      filter: drop-shadow(0px 1px 2px rgba(0, 0, 0, 0.3));\n",
              "      fill: #FFFFFF;\n",
              "    }\n",
              "  </style>\n",
              "\n",
              "    <script>\n",
              "      const buttonEl =\n",
              "        document.querySelector('#df-ba1284dc-14e7-4fe4-8724-c722396c52cb button.colab-df-convert');\n",
              "      buttonEl.style.display =\n",
              "        google.colab.kernel.accessAllowed ? 'block' : 'none';\n",
              "\n",
              "      async function convertToInteractive(key) {\n",
              "        const element = document.querySelector('#df-ba1284dc-14e7-4fe4-8724-c722396c52cb');\n",
              "        const dataTable =\n",
              "          await google.colab.kernel.invokeFunction('convertToInteractive',\n",
              "                                                    [key], {});\n",
              "        if (!dataTable) return;\n",
              "\n",
              "        const docLinkHtml = 'Like what you see? Visit the ' +\n",
              "          '<a target=\"_blank\" href=https://colab.research.google.com/notebooks/data_table.ipynb>data table notebook</a>'\n",
              "          + ' to learn more about interactive tables.';\n",
              "        element.innerHTML = '';\n",
              "        dataTable['output_type'] = 'display_data';\n",
              "        await google.colab.output.renderOutput(dataTable, element);\n",
              "        const docLink = document.createElement('div');\n",
              "        docLink.innerHTML = docLinkHtml;\n",
              "        element.appendChild(docLink);\n",
              "      }\n",
              "    </script>\n",
              "  </div>\n",
              "\n",
              "\n",
              "    </div>\n",
              "  </div>\n"
            ],
            "application/vnd.google.colaboratory.intrinsic+json": {
              "type": "dataframe"
            }
          },
          "metadata": {},
          "execution_count": 63
        }
      ],
      "source": [
        "ipl_df[ipl_df.match_id == required_match_id].head(1)"
      ]
    },
    {
      "cell_type": "code",
      "execution_count": 64,
      "metadata": {
        "id": "LjUfonmIyBn5"
      },
      "outputs": [],
      "source": [
        "t1_outs = ipl_df[ipl_df.batting_team == t1].isOut.sum()\n",
        "t2_outs = ipl_df[ipl_df.batting_team == t2].isOut.sum()"
      ]
    },
    {
      "cell_type": "code",
      "execution_count": 65,
      "metadata": {
        "id": "GL59wZkkyBn6"
      },
      "outputs": [],
      "source": [
        "t1_outcomes = ipl_df[ipl_df.batting_team == t1].total_runs.value_counts()\n",
        "t2_outcomes = ipl_df[ipl_df.batting_team == t2].total_runs.value_counts()"
      ]
    },
    {
      "cell_type": "code",
      "execution_count": 66,
      "metadata": {
        "id": "2q_FETsryBn6"
      },
      "outputs": [],
      "source": [
        "outcomes = [0, 1, 2, 3, 4, 6, 'w']"
      ]
    },
    {
      "cell_type": "code",
      "execution_count": 67,
      "metadata": {
        "id": "SQH31qVfyBn6"
      },
      "outputs": [],
      "source": [
        "t1_outcomes_count = []\n",
        "for outcome in outcomes:\n",
        "    try:\n",
        "        if outcome != 'w':\n",
        "            t1_outcomes_count.append(t1_outcomes[outcome])\n",
        "        else:\n",
        "            t1_outcomes_count.append(t1_outs)\n",
        "    except:\n",
        "        t1_outcomes_count.append(0)\n",
        "\n",
        "\n",
        "t2_outcomes_count = []\n",
        "for outcome in outcomes:\n",
        "    try:\n",
        "        if outcome != 'w':\n",
        "            t2_outcomes_count.append(t2_outcomes[outcome])\n",
        "        else:\n",
        "            t2_outcomes_count.append(t2_outs)\n",
        "    except:\n",
        "        t2_outcomes_count.append(0)"
      ]
    },
    {
      "cell_type": "code",
      "execution_count": 68,
      "metadata": {
        "colab": {
          "base_uri": "https://localhost:8080/"
        },
        "id": "RxLQxFU0yBn6",
        "outputId": "2d04b3b2-e4e6-43c7-dad1-5c906f081dbb"
      },
      "outputs": [
        {
          "output_type": "execute_result",
          "data": {
            "text/plain": [
              "[9974, 11336, 1721, 104, 3198, 1403, 1378]"
            ]
          },
          "metadata": {},
          "execution_count": 68
        }
      ],
      "source": [
        "t1_outcomes_count"
      ]
    },
    {
      "cell_type": "code",
      "execution_count": 69,
      "metadata": {
        "colab": {
          "base_uri": "https://localhost:8080/"
        },
        "id": "dsRYAlOIyBn7",
        "outputId": "d1323502-5435-4200-aa91-679234fd1958"
      },
      "outputs": [
        {
          "output_type": "execute_result",
          "data": {
            "text/plain": [
              "[8661, 10515, 1706, 98, 2829, 1259, 1087]"
            ]
          },
          "metadata": {},
          "execution_count": 69
        }
      ],
      "source": [
        "t2_outcomes_count"
      ]
    },
    {
      "cell_type": "code",
      "execution_count": 70,
      "metadata": {
        "id": "x-TfOj5XyBn7"
      },
      "outputs": [],
      "source": [
        "t1_pb = [i/sum(t1_outcomes_count) for i in t1_outcomes_count]\n",
        "t2_pb = [i/sum(t2_outcomes_count) for i in t2_outcomes_count]"
      ]
    },
    {
      "cell_type": "code",
      "execution_count": 71,
      "metadata": {
        "colab": {
          "base_uri": "https://localhost:8080/"
        },
        "id": "jap8HE2LyBn7",
        "outputId": "30c6f78f-1692-4c08-ecca-707404a7a060"
      },
      "outputs": [
        {
          "output_type": "execute_result",
          "data": {
            "text/plain": [
              "([0.3425843236930686,\n",
              "  0.3893659407845023,\n",
              "  0.05911245448924916,\n",
              "  0.003572164594353232,\n",
              "  0.10984406127636188,\n",
              "  0.04818987428728447,\n",
              "  0.047331180875180325],\n",
              " [0.33114127317912445,\n",
              "  0.4020263811890652,\n",
              "  0.06522653412349455,\n",
              "  0.0037468935194035556,\n",
              "  0.10816287516727204,\n",
              "  0.04813611164213343,\n",
              "  0.041559931179506786])"
            ]
          },
          "metadata": {},
          "execution_count": 71
        }
      ],
      "source": [
        "t1_pb, t2_pb"
      ]
    },
    {
      "cell_type": "code",
      "execution_count": 72,
      "metadata": {
        "id": "5ND2QK4uyBn7"
      },
      "outputs": [],
      "source": [
        "t1_cum_pb = list(np.cumsum(t1_pb))\n",
        "t2_cum_pb = list(np.cumsum(t2_pb))"
      ]
    },
    {
      "cell_type": "code",
      "execution_count": 73,
      "metadata": {
        "id": "DkOXX8mLyBn8"
      },
      "outputs": [],
      "source": [
        "# first innings\n",
        "i1p_0 = t1_cum_pb[0]\n",
        "i1p_1 = t1_cum_pb[1]\n",
        "i1p_2 = t1_cum_pb[2]\n",
        "i1p_3 = t1_cum_pb[3]\n",
        "i1p_4 = t1_cum_pb[4]\n",
        "i1p_6 = t1_cum_pb[5]\n",
        "i1p_w = 1\n",
        "\n",
        "pred_runs = 0\n",
        "pred_wks = 0\n",
        "\n",
        "for i in range(120):\n",
        "    r_value = np.random.random()\n",
        "\n",
        "    if r_value <= i1p_0:\n",
        "        pred_runs += 0\n",
        "    elif r_value <= i1p_1:\n",
        "        pred_runs += 1\n",
        "    elif r_value <= i1p_2:\n",
        "        pred_runs += 2\n",
        "    elif r_value <= i1p_3:\n",
        "        pred_runs += 3\n",
        "    elif r_value <= i1p_4:\n",
        "        pred_runs += 4\n",
        "    elif r_value <= i1p_6:\n",
        "        pred_runs += 6\n",
        "    else:\n",
        "        pred_runs += 0\n",
        "        pred_wks += 1\n",
        "        if pred_wks == 10:\n",
        "            break"
      ]
    },
    {
      "cell_type": "markdown",
      "metadata": {
        "id": "wj37YO5MyBn8"
      },
      "source": [
        "## Function: 1st Innings runs prediction"
      ]
    },
    {
      "cell_type": "code",
      "execution_count": 74,
      "metadata": {
        "id": "HzV1bzFWyBn8"
      },
      "outputs": [],
      "source": [
        "# first innings\n",
        "def innings_1_runs(curr_overs, curr_score, curr_wickets):\n",
        "    i1p_0 = t1_cum_pb[0]\n",
        "    i1p_1 = t1_cum_pb[1]\n",
        "    i1p_2 = t1_cum_pb[2]\n",
        "    i1p_3 = t1_cum_pb[3]\n",
        "    i1p_4 = t1_cum_pb[4]\n",
        "    i1p_6 = t1_cum_pb[5]\n",
        "    i1p_w = 1\n",
        "\n",
        "    # initialize runs, wickets\n",
        "    pred_runs = curr_score\n",
        "    pred_wks = curr_wickets\n",
        "\n",
        "    # calculate leftover balls\n",
        "    over_ball = curr_overs\n",
        "    over_number = int(str(over_ball).split('.')[0])\n",
        "    ball_number = int(str(over_ball).split('.')[1])\n",
        "\n",
        "    if ball_number >= 6:\n",
        "        ball_number = 6\n",
        "    current_balls = over_number*6 + ball_number\n",
        "    leftover_balls = 120 - current_balls\n",
        "\n",
        "    for i in range(leftover_balls):\n",
        "\n",
        "        r_value = np.random.random()\n",
        "\n",
        "        if r_value <= i1p_0:\n",
        "            pred_runs += 0\n",
        "        elif r_value <= i1p_1:\n",
        "            pred_runs += 1\n",
        "        elif r_value <= i1p_2:\n",
        "            pred_runs += 2\n",
        "        elif r_value <= i1p_3:\n",
        "            pred_runs += 3\n",
        "        elif r_value <= i1p_4:\n",
        "            pred_runs += 4\n",
        "        elif r_value <= i1p_6:\n",
        "            pred_runs += 6\n",
        "        else:\n",
        "            pred_runs += 0\n",
        "            pred_wks += 1\n",
        "            if pred_wks == 10:\n",
        "                break\n",
        "\n",
        "    return pred_runs"
      ]
    },
    {
      "cell_type": "code",
      "execution_count": 75,
      "metadata": {
        "colab": {
          "base_uri": "https://localhost:8080/"
        },
        "id": "NzBNqHEeyBn8",
        "outputId": "920ee182-0b4a-478a-99db-5bff131f82fa"
      },
      "outputs": [
        {
          "output_type": "execute_result",
          "data": {
            "text/plain": [
              "159"
            ]
          },
          "metadata": {},
          "execution_count": 75
        }
      ],
      "source": [
        "# innings_1_runs(curr_overs, curr_score, curr_wickets)\n",
        "innings_1_runs(10.0, 100, 0)"
      ]
    },
    {
      "cell_type": "markdown",
      "metadata": {
        "id": "ksLR9250yBn9"
      },
      "source": [
        "## Function: 2nd Innings runs prediction"
      ]
    },
    {
      "cell_type": "code",
      "execution_count": 76,
      "metadata": {
        "id": "YFCZckwWyBn9"
      },
      "outputs": [],
      "source": [
        "# second innings\n",
        "def innings_2_runs(curr_overs, curr_score, curr_wickets, target):\n",
        "    i2p_0 = t2_cum_pb[0]\n",
        "    i2p_1 = t2_cum_pb[1]\n",
        "    i2p_2 = t2_cum_pb[2]\n",
        "    i2p_3 = t2_cum_pb[3]\n",
        "    i2p_4 = t2_cum_pb[4]\n",
        "    i2p_6 = t2_cum_pb[5]\n",
        "    i2p_w = 1\n",
        "\n",
        "    # initialize runs, wickets\n",
        "    pred_runs = curr_score\n",
        "    pred_wks = curr_wickets\n",
        "\n",
        "    # calculate leftover balls\n",
        "    over_ball = curr_overs\n",
        "    over_number = int(str(over_ball).split('.')[0])\n",
        "    ball_number = int(str(over_ball).split('.')[1])\n",
        "\n",
        "    if ball_number >= 6:\n",
        "        ball_number = 6\n",
        "    current_balls = over_number*6 + ball_number\n",
        "    leftover_balls = 120 - current_balls\n",
        "\n",
        "    for i in range(leftover_balls):\n",
        "\n",
        "        r_value = np.random.random()\n",
        "\n",
        "        if r_value <= i2p_0:\n",
        "            pred_runs += 0\n",
        "        elif r_value <= i2p_1:\n",
        "            pred_runs += 1\n",
        "        elif r_value <= i2p_2:\n",
        "            pred_runs += 2\n",
        "        elif r_value <= i2p_3:\n",
        "            pred_runs += 3\n",
        "        elif r_value <= i2p_4:\n",
        "            pred_runs += 4\n",
        "        elif r_value <= i2p_6:\n",
        "            pred_runs += 6\n",
        "        else:\n",
        "            pred_runs += 0\n",
        "            pred_wks += 1\n",
        "            if pred_wks == 10:\n",
        "                break\n",
        "\n",
        "        if pred_runs > target:\n",
        "            break\n",
        "\n",
        "    return pred_runs"
      ]
    },
    {
      "cell_type": "code",
      "execution_count": 77,
      "metadata": {
        "colab": {
          "base_uri": "https://localhost:8080/"
        },
        "id": "lTY2A_HhyBn9",
        "outputId": "7cb0e5dc-a2d9-4821-e111-720187f292f4"
      },
      "outputs": [
        {
          "output_type": "execute_result",
          "data": {
            "text/plain": [
              "168"
            ]
          },
          "metadata": {},
          "execution_count": 77
        }
      ],
      "source": [
        "# innings_2_runs(curr_overs, curr_score, curr_wickets, target)\n",
        "innings_2_runs(10.0, 100, 0, 167)"
      ]
    },
    {
      "cell_type": "code",
      "execution_count": 78,
      "metadata": {
        "id": "ndZzgk6jyBn9"
      },
      "outputs": [],
      "source": [
        "mdf = ipl_df[ipl_df.match_id == required_match_id]"
      ]
    },
    {
      "cell_type": "code",
      "execution_count": 79,
      "metadata": {
        "id": "uwnVAb8iyBn-"
      },
      "outputs": [],
      "source": [
        "mdf.reset_index(inplace = True, drop = True)"
      ]
    },
    {
      "cell_type": "code",
      "execution_count": 80,
      "metadata": {
        "id": "C8Oqsv8IyBn-"
      },
      "outputs": [],
      "source": [
        "df_ing1 = mdf[mdf.innings == 1]\n",
        "df_ing2 = mdf[mdf.innings == 2]"
      ]
    },
    {
      "cell_type": "code",
      "execution_count": 81,
      "metadata": {
        "id": "Zl5xIvCKyBn-"
      },
      "outputs": [],
      "source": [
        "df_ing1 = df_ing1.sort_values('ball', ascending = True)\n",
        "df_ing2 = df_ing2.sort_values('ball', ascending = True)"
      ]
    },
    {
      "cell_type": "code",
      "execution_count": 82,
      "metadata": {
        "id": "LE43Zmm2yBn-"
      },
      "outputs": [],
      "source": [
        "df_ing1.reset_index(inplace = True, drop = True)\n",
        "df_ing2.reset_index(inplace = True, drop = True)"
      ]
    },
    {
      "cell_type": "markdown",
      "metadata": {
        "id": "ICXd_MG5yBoF"
      },
      "source": [
        "## Runs prediction: 1st Innings"
      ]
    },
    {
      "cell_type": "code",
      "execution_count": 83,
      "metadata": {
        "id": "IVF3xzmNyBoF"
      },
      "outputs": [],
      "source": [
        "curr_score = 0\n",
        "curr_wickets = 0\n",
        "curr_overs = 0.0\n",
        "\n",
        "ing1_runs_pred = []\n",
        "\n",
        "for i in range(len(df_ing1)):\n",
        "    curr_score += df_ing1.total_runs[i]\n",
        "    curr_overs = df_ing1.ball[i]\n",
        "    curr_wickets += df_ing1.isOut[i]\n",
        "\n",
        "    prediction = innings_1_runs(curr_overs, curr_score, curr_wickets)\n",
        "#     print('score: ', curr_score, ' overs: ', curr_overs, ' wickets: ', curr_wickets, ' prediction: ', prediction)\n",
        "    ing1_runs_pred.append(prediction)"
      ]
    },
    {
      "cell_type": "code",
      "execution_count": 84,
      "metadata": {
        "id": "6e41KWTZyBoF"
      },
      "outputs": [],
      "source": [
        "ing1_actual_score = sum(df_ing1.total_runs)"
      ]
    },
    {
      "cell_type": "markdown",
      "metadata": {
        "id": "dut8nKwoyBoF"
      },
      "source": [
        "## Runs prediction: 2nd Innings"
      ]
    },
    {
      "cell_type": "code",
      "execution_count": 85,
      "metadata": {
        "id": "kj8td8CGyBoG"
      },
      "outputs": [],
      "source": [
        "curr_score = 0\n",
        "curr_wickets = 0\n",
        "curr_overs = 0.0\n",
        "target = ing1_actual_score\n",
        "\n",
        "ing2_runs_pred = []\n",
        "\n",
        "for i in range(len(df_ing2)):\n",
        "    curr_score += df_ing2.total_runs[i]\n",
        "    curr_overs = df_ing2.ball[i]\n",
        "    curr_wickets += df_ing2.isOut[i]\n",
        "\n",
        "    prediction = innings_2_runs(curr_overs, curr_score, curr_wickets, target)\n",
        "#     print('target: ', target)\n",
        "#     print('score: ', curr_score, ' overs: ', curr_overs, ' wickets: ', curr_wickets, ' prediction: ', prediction)\n",
        "    ing2_runs_pred.append(prediction)"
      ]
    },
    {
      "cell_type": "markdown",
      "metadata": {
        "id": "GPurJl41yBoG"
      },
      "source": [
        "## Runs prediction chart: 1st Innings"
      ]
    },
    {
      "cell_type": "code",
      "execution_count": 86,
      "metadata": {
        "colab": {
          "base_uri": "https://localhost:8080/",
          "height": 566
        },
        "id": "EHYJS1aeyBoG",
        "outputId": "38ca6cc6-407e-422b-b9c1-939fe99c1a5a"
      },
      "outputs": [
        {
          "output_type": "display_data",
          "data": {
            "text/plain": [
              "<Figure size 1600x600 with 1 Axes>"
            ],
            "image/png": "[encoded data removed]"
          },
          "metadata": {}
        }
      ],
      "source": [
        "plt.figure(figsize = (16, 6))\n",
        "plt.scatter([i for i in range(len(ing1_runs_pred))], ing1_runs_pred, alpha = 0.5, label = 'pred', color = 'red')\n",
        "plt.ylim(0, ing1_actual_score + 30)\n",
        "plt.axhline(ing1_actual_score, ls = '--', label = 'actual', color = 'green')\n",
        "plt.title('First Innings Runs - Prediction vs Actual (' + t1 + ': ' + str(ing1_actual_score) +  ')', fontsize = 16)\n",
        "plt.legend()\n",
        "plt.xlabel('Ball No')\n",
        "plt.ylabel('Runs')\n",
        "plt.show()"
      ]
    },
    {
      "cell_type": "markdown",
      "metadata": {
        "id": "TDhzRzhpyBoG"
      },
      "source": [
        "### Error in 1st Innings runs:"
      ]
    },
    {
      "cell_type": "code",
      "execution_count": 87,
      "metadata": {
        "colab": {
          "base_uri": "https://localhost:8080/"
        },
        "id": "eOBsHSa-yBoH",
        "outputId": "1d7bc576-3e4b-4b5c-96a8-348d1cf1b630"
      },
      "outputs": [
        {
          "output_type": "execute_result",
          "data": {
            "text/plain": [
              "21.911290322580644"
            ]
          },
          "metadata": {},
          "execution_count": 87
        }
      ],
      "source": [
        "np.mean([abs(i - ing1_actual_score) for i in ing1_runs_pred])"
      ]
    },
    {
      "cell_type": "code",
      "execution_count": 88,
      "metadata": {
        "id": "kr3294YSyBoH"
      },
      "outputs": [],
      "source": [
        "ing2_actual_score = sum(df_ing2.total_runs)"
      ]
    },
    {
      "cell_type": "markdown",
      "metadata": {
        "id": "Yq_au9DjyBoH"
      },
      "source": [
        "## Runs prediction chart: 2nd Innings"
      ]
    },
    {
      "cell_type": "code",
      "execution_count": 89,
      "metadata": {
        "colab": {
          "base_uri": "https://localhost:8080/",
          "height": 566
        },
        "id": "EhYqidlHyBoH",
        "outputId": "4b7ffe04-267f-430c-e1f0-74a5f5428b54"
      },
      "outputs": [
        {
          "output_type": "display_data",
          "data": {
            "text/plain": [
              "<Figure size 1600x600 with 1 Axes>"
            ],
            "image/png": "[encoded data removed]"
          },
          "metadata": {}
        }
      ],
      "source": [
        "plt.figure(figsize = (16, 6))\n",
        "plt.scatter([i for i in range(len(ing2_runs_pred))], ing2_runs_pred, alpha = 0.5, label = 'pred', color = 'red')\n",
        "plt.ylim(0, ing2_actual_score + 30)\n",
        "plt.axhline(ing2_actual_score, ls = '--', label = 'actual', color = 'green')\n",
        "plt.title('Second Innings Runs - Prediction vs Actual (' + t2 + ': ' + str(ing2_actual_score) +  ')', fontsize = 16)\n",
        "plt.xlabel('Ball No')\n",
        "plt.ylabel('Runs')\n",
        "plt.legend()\n",
        "plt.show()"
      ]
    },
    {
      "cell_type": "markdown",
      "metadata": {
        "id": "VzRe_pCqyBoI"
      },
      "source": [
        "### Error in 2nd Innings runs:"
      ]
    },
    {
      "cell_type": "code",
      "execution_count": 90,
      "metadata": {
        "colab": {
          "base_uri": "https://localhost:8080/"
        },
        "id": "qpub9Jt1yBoI",
        "outputId": "836a9316-c7c1-465c-cba1-f999843de145"
      },
      "outputs": [
        {
          "output_type": "execute_result",
          "data": {
            "text/plain": [
              "1.7830188679245282"
            ]
          },
          "metadata": {},
          "execution_count": 90
        }
      ],
      "source": [
        "np.mean([abs(i - ing2_actual_score) for i in ing2_runs_pred])"
      ]
    },
    {
      "cell_type": "markdown",
      "metadata": {
        "id": "_JeXiq7yyBoI"
      },
      "source": [
        "## Win predictions: 1st Innings"
      ]
    },
    {
      "cell_type": "code",
      "execution_count": 91,
      "metadata": {
        "id": "i8FghQVOyBoJ"
      },
      "outputs": [],
      "source": [
        "# 1, 2 innings & predict win\n",
        "\n",
        "# for each ball make a prediction: 1st runs, 2nd runs, win/lose/tie\n",
        "\n",
        "# initialize win/tie/lose\n",
        "win_count = 0\n",
        "tie_count = 0\n",
        "lose_count = 0\n",
        "\n",
        "win_count_ls = []\n",
        "tie_count_ls = []\n",
        "lose_count_ls = []\n",
        "\n",
        "ing1_curr_score = 0\n",
        "ing1_curr_overs = 0\n",
        "ing1_curr_wickets = 0\n",
        "\n",
        "# each ball\n",
        "for i in range(len(df_ing1)):\n",
        "\n",
        "    # 1st innings values\n",
        "    ing1_curr_score += df_ing1.total_runs[i]\n",
        "    ing1_curr_overs = df_ing1.ball[i]\n",
        "    ing1_curr_wickets += df_ing1.isOut[i]\n",
        "\n",
        "    #2nd innings values\n",
        "    ing2_curr_score = 0\n",
        "    ing2_curr_wickets = 0\n",
        "    ing2_curr_overs = 0.0\n",
        "\n",
        "    # make a prediction for 100 times & get win/lose/tie count(ex: 28% win)\n",
        "    for j in range(100):\n",
        "\n",
        "        ing1_prediction = innings_1_runs(ing1_curr_overs, ing1_curr_score, ing1_curr_wickets)\n",
        "        target = ing1_prediction\n",
        "\n",
        "        ing2_prediction = innings_2_runs(ing2_curr_overs, ing2_curr_score, ing2_curr_wickets, target)\n",
        "\n",
        "#         print(ing1_prediction, ing2_prediction)\n",
        "\n",
        "        # prediction w.r.t 2nd team\n",
        "        if ing2_prediction > target:\n",
        "            win_count += 1\n",
        "        elif ing2_prediction == target:\n",
        "            tie_count += 1\n",
        "        else:\n",
        "            lose_count += 1\n",
        "\n",
        "    win_count_ls.append(win_count)\n",
        "    tie_count_ls.append(tie_count)\n",
        "    lose_count_ls.append(lose_count)\n",
        "\n",
        "    win_count = 0\n",
        "    tie_count = 0\n",
        "    lose_count = 0"
      ]
    },
    {
      "cell_type": "markdown",
      "metadata": {
        "id": "ua0nyKsJyBoJ"
      },
      "source": [
        "## Win predictions: 2nd Innings"
      ]
    },
    {
      "cell_type": "code",
      "execution_count": 92,
      "metadata": {
        "id": "70YThd5qyBoK"
      },
      "outputs": [],
      "source": [
        "# each ball\n",
        "#2nd innings values\n",
        "ing2_curr_score = 0\n",
        "ing2_curr_wickets = 0\n",
        "ing2_curr_overs = 0.0\n",
        "\n",
        "for i in range(len(df_ing2)):\n",
        "\n",
        "    # 1st innings values\n",
        "    target = ing1_actual_score\n",
        "\n",
        "    #2nd innings values\n",
        "    ing2_curr_score += df_ing2.total_runs[i]\n",
        "    ing2_curr_wickets += df_ing2.isOut[i]\n",
        "    ing2_curr_overs = df_ing2.ball[i]\n",
        "\n",
        "    # make a prediction for 100 times & get win/lose/tie count(ex: 28% win)\n",
        "    for j in range(100):\n",
        "        ing2_prediction = innings_2_runs(ing2_curr_overs, ing2_curr_score, ing2_curr_wickets, target)\n",
        "\n",
        "#         print(target, ing2_prediction)\n",
        "\n",
        "        # prediction w.r.t 2nd team\n",
        "        if ing2_prediction > target:\n",
        "            win_count += 1\n",
        "        elif ing2_prediction == target:\n",
        "            tie_count += 1\n",
        "        else:\n",
        "            lose_count += 1\n",
        "\n",
        "    win_count_ls.append(win_count)\n",
        "    tie_count_ls.append(tie_count)\n",
        "    lose_count_ls.append(lose_count)\n",
        "\n",
        "    win_count = 0\n",
        "    tie_count = 0\n",
        "    lose_count = 0"
      ]
    },
    {
      "cell_type": "markdown",
      "metadata": {
        "id": "GoXEO_b0yBoK"
      },
      "source": [
        "## Win Percentage Chart:"
      ]
    },
    {
      "cell_type": "code",
      "execution_count": 93,
      "metadata": {
        "colab": {
          "base_uri": "https://localhost:8080/",
          "height": 566
        },
        "id": "phrk4zfGyBoK",
        "outputId": "53c713a1-4c33-428b-9879-4964bf2d7ba9"
      },
      "outputs": [
        {
          "output_type": "display_data",
          "data": {
            "text/plain": [
              "<Figure size 1600x600 with 1 Axes>"
            ],
            "image/png": "[encoded data removed]"
          },
          "metadata": {}
        }
      ],
      "source": [
        "plt.figure(figsize = (16, 6))\n",
        "\n",
        "x1_values = [i for i in range(len(win_count_ls))]\n",
        "y1_values = win_count_ls\n",
        "\n",
        "x2_values = [i for i in range(len(tie_count_ls))]\n",
        "y2_values = tie_count_ls\n",
        "\n",
        "x3_values = [i for i in range(len(lose_count_ls))]\n",
        "y3_values = lose_count_ls\n",
        "\n",
        "for i in range(10, len(mdf), 20):\n",
        "    if i < len(mdf) - 10:\n",
        "        plt.axvspan(i, i+10, ymin = 0, ymax = 100, alpha = 0.05, color='grey')\n",
        "\n",
        "plt.axhline(y = 75, ls = '--', alpha = 0.3, c = 'grey')\n",
        "plt.axhline(y = 50, ls = '--', alpha = 1, c = 'grey')\n",
        "plt.axhline(y = 25, ls = '--', alpha = 0.3, c = 'grey')\n",
        "\n",
        "plt.plot(x1_values, y1_values, color = 'orange', label = t2)\n",
        "plt.plot(x2_values, y2_values, color = 'grey', label = 'Tie Value')\n",
        "plt.plot(x3_values, y3_values, color = 'blue', label = t1)\n",
        "\n",
        "plt.ylim(0, 100)\n",
        "plt.yticks([0, 25, 50, 75, 100])\n",
        "\n",
        "\n",
        "# add confidence interval\n",
        "# ci = 3\n",
        "# plt.fill_between(x1_values, np.array(y1_values) - ci, np.array(y1_values) + ci, color = 'orange', alpha = 0.2 )\n",
        "# plt.fill_between(x2_values, np.array(y2_values) - ci, np.array(y2_values) + ci, color = 'grey', alpha = 0.2 )\n",
        "# plt.fill_between(x3_values, np.array(y3_values) - ci, np.array(y3_values) + ci, color = 'blue', alpha = 0.2 )\n",
        "\n",
        "plt.title('Win Percentage Chart: ' + t1 + ' vs ' + t2, fontsize = 16)\n",
        "plt.xlabel('Ball No')\n",
        "plt.ylabel('Win %')\n",
        "plt.legend()\n",
        "plt.show()"
      ]
    },
    {
      "cell_type": "code",
      "execution_count": null,
      "metadata": {
        "id": "a8INl_HJyBoL"
      },
      "outputs": [],
      "source": []
    }
  ],
  "metadata": {
    "kernelspec": {
      "display_name": "Python 3",
      "language": "python",
      "name": "python3"
    },
    "language_info": {
      "codemirror_mode": {
        "name": "ipython",
        "version": 3
      },
      "file_extension": ".py",
      "mimetype": "text/x-python",
      "name": "python",
      "nbconvert_exporter": "python",
      "pygments_lexer": "ipython3",
      "version": "3.7.6"
    },
    "colab": {
      "provenance": []
    }
  },
  "nbformat": 4,
  "nbformat_minor": 0
}